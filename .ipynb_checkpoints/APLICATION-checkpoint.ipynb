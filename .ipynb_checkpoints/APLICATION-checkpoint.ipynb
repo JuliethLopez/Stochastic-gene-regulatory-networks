{
 "cells": [
  {
   "cell_type": "markdown",
   "id": "82ee05e1-dd3a-4637-b393-f25528d59e82",
   "metadata": {},
   "source": [
    "# Stochastic gene regulatory networks"
   ]
  },
  {
   "cell_type": "markdown",
   "id": "411ca3cc-0e88-49e0-8180-11c9c991cd47",
   "metadata": {},
   "source": [
    "Here we use the code of the notebook **STATES_CODE.R**. The libraries needed are *rlist, igraph, gtools, markovchain, data.table, RColorBrewer*. The genes are made through gen class, it's possible to introduce *n* genes with the unique condition of having only two states for each gene: Activated or degraded. All the code works in this notebook calling only one function **complete_simulation**.\n",
    "\n",
    "Here we are goint to show an example with three genes."
   ]
  },
  {
   "cell_type": "code",
   "execution_count": 1,
   "id": "ae9f5c03-90cd-4220-9dce-ce69f67d0a8f",
   "metadata": {},
   "outputs": [
    {
     "data": {
      "text/html": [
       "'C:/Users/JULIETH LOPEZ/Documents/CURE/Stochastic gene regulatory networks'"
      ],
      "text/latex": [
       "'C:/Users/JULIETH LOPEZ/Documents/CURE/Stochastic gene regulatory networks'"
      ],
      "text/markdown": [
       "'C:/Users/JULIETH LOPEZ/Documents/CURE/Stochastic gene regulatory networks'"
      ],
      "text/plain": [
       "[1] \"C:/Users/JULIETH LOPEZ/Documents/CURE/Stochastic gene regulatory networks\""
      ]
     },
     "metadata": {},
     "output_type": "display_data"
    }
   ],
   "source": [
    "getwd()"
   ]
  },
  {
   "cell_type": "code",
   "execution_count": 5,
   "id": "851d7526-8bfd-46d3-8f15-1b9c279b3394",
   "metadata": {},
   "outputs": [
    {
     "data": {
      "text/plain": [
       "[1] '1.0.1'"
      ]
     },
     "metadata": {},
     "output_type": "display_data"
    }
   ],
   "source": [
    "packageVersion(\"Rcpp\")"
   ]
  },
  {
   "cell_type": "code",
   "execution_count": 3,
   "id": "24e4e10a-3bdc-411d-97f5-264d90f1a299",
   "metadata": {},
   "outputs": [
    {
     "name": "stdout",
     "output_type": "stream",
     "text": [
      "\n",
      "  There is a binary version available but the source version is later:\n",
      "     binary source needs_compilation\n",
      "Rcpp  1.0.6  1.0.7              TRUE\n",
      "\n",
      "  Binaries will be installed\n",
      "package 'Rcpp' successfully unpacked and MD5 sums checked\n"
     ]
    },
    {
     "name": "stderr",
     "output_type": "stream",
     "text": [
      "Warning message:\n",
      "\"cannot remove prior installation of package 'Rcpp'\"Warning message in file.copy(savedcopy, lib, recursive = TRUE):\n",
      "\"problema al copiar C:\\Users\\JULIETH LOPEZ\\.conda\\envs\\R\\lib\\R\\library\\00LOCK\\Rcpp\\libs\\x64\\Rcpp.dll  a C:\\Users\\JULIETH LOPEZ\\.conda\\envs\\R\\lib\\R\\library\\Rcpp\\libs\\x64\\Rcpp.dll: Permission denied\"Warning message:\n",
      "\"restored 'Rcpp'\""
     ]
    },
    {
     "name": "stdout",
     "output_type": "stream",
     "text": [
      "\n",
      "The downloaded binary packages are in\n",
      "\tC:\\Users\\JULIETH LOPEZ\\AppData\\Local\\Temp\\RtmpSMNl9L\\downloaded_packages\n"
     ]
    }
   ],
   "source": [
    "install.packages(\"Rcpp\")"
   ]
  },
  {
   "cell_type": "code",
   "execution_count": 6,
   "id": "f575b483-afaf-4016-aaaf-bea4a050577b",
   "metadata": {},
   "outputs": [
    {
     "name": "stderr",
     "output_type": "stream",
     "text": [
      "Warning message:\n",
      "\"unable to access index for repository https://rcppcore.github.io/drat/bin/windows/contrib/3.6:\n",
      "  no fue posible abrir la URL 'https://rcppcore.github.io/drat/bin/windows/contrib/3.6/PACKAGES'\"Package which is only available in source form, and may need\n",
      "  compilation of C/C++/Fortran: 'Rcpp'\n"
     ]
    },
    {
     "name": "stdout",
     "output_type": "stream",
     "text": [
      "  These will not be installed\n"
     ]
    }
   ],
   "source": [
    "install.packages(\"Rcpp\", repos=\"https://rcppcore.github.io/drat\")"
   ]
  },
  {
   "cell_type": "code",
   "execution_count": 6,
   "id": "0322e515-7750-4d2f-b14e-18093d27454c",
   "metadata": {},
   "outputs": [
    {
     "name": "stderr",
     "output_type": "stream",
     "text": [
      "Warning message:\n",
      "\"package 'igraph' was built under R version 3.6.3\"\n",
      "Attaching package: 'igraph'\n",
      "\n",
      "The following objects are masked from 'package:stats':\n",
      "\n",
      "    decompose, spectrum\n",
      "\n",
      "The following object is masked from 'package:base':\n",
      "\n",
      "    union\n",
      "\n",
      "Warning message:\n",
      "\"package 'gtools' was built under R version 3.6.3\"\n",
      "Attaching package: 'gtools'\n",
      "\n",
      "The following object is masked from 'package:igraph':\n",
      "\n",
      "    permute\n",
      "\n",
      "Warning message:\n",
      "\"package 'markovchain' was built under R version 3.6.3\""
     ]
    },
    {
     "ename": "ERROR",
     "evalue": "Error: package or namespace load failed for 'markovchain' in loadNamespace(j <- i[[1L]], c(lib.loc, .libPaths()), versionCheck = vI[[j]]):\n namespace 'Rcpp' 1.0.1 is already loaded, but >= 1.0.2 is required\n",
     "output_type": "error",
     "traceback": [
      "Error: package or namespace load failed for 'markovchain' in loadNamespace(j <- i[[1L]], c(lib.loc, .libPaths()), versionCheck = vI[[j]]):\n namespace 'Rcpp' 1.0.1 is already loaded, but >= 1.0.2 is required\nTraceback:\n",
      "1. source(\"STATES_CODE.R\")",
      "2. withVisible(eval(ei, envir))",
      "3. eval(ei, envir)",
      "4. eval(ei, envir)",
      "5. library(markovchain)",
      "6. tryCatch({\n .     attr(package, \"LibPath\") <- which.lib.loc\n .     ns <- loadNamespace(package, lib.loc)\n .     env <- attachNamespace(ns, pos = pos, deps, exclude, include.only)\n . }, error = function(e) {\n .     P <- if (!is.null(cc <- conditionCall(e))) \n .         paste(\" in\", deparse(cc)[1L])\n .     else \"\"\n .     msg <- gettextf(\"package or namespace load failed for %s%s:\\n %s\", \n .         sQuote(package), P, conditionMessage(e))\n .     if (logical.return) \n .         message(paste(\"Error:\", msg), domain = NA)\n .     else stop(msg, call. = FALSE, domain = NA)\n . })",
      "7. tryCatchList(expr, classes, parentenv, handlers)",
      "8. tryCatchOne(expr, names, parentenv, handlers[[1L]])",
      "9. value[[3L]](cond)",
      "10. stop(msg, call. = FALSE, domain = NA)"
     ]
    }
   ],
   "source": [
    "source('STATES_CODE.R')"
   ]
  },
  {
   "cell_type": "code",
   "execution_count": 10,
   "id": "346447e5-5522-48a1-ab66-271dc272c1e3",
   "metadata": {},
   "outputs": [
    {
     "ename": "ERROR",
     "evalue": "Error in gen(name = \"A\", activate_list = list(\"B\", \"C\"), prob_activation = 0.1, : no se pudo encontrar la función \"gen\"\n",
     "output_type": "error",
     "traceback": [
      "Error in gen(name = \"A\", activate_list = list(\"B\", \"C\"), prob_activation = 0.1, : no se pudo encontrar la función \"gen\"\nTraceback:\n"
     ]
    }
   ],
   "source": [
    "###############################################################\n",
    "#Here, we define each gene.\n",
    "\n",
    "gen_A = gen(name=\"A\",\n",
    "            activate_list = list(\"B\",\"C\"),\n",
    "            prob_activation = 0.1,\n",
    "            prob_degradation = 0.2)\n",
    "\n",
    "gen_B = gen(name=\"B\",\n",
    "            activate_list = list(\"C\"),\n",
    "            inhibit_list = list(\"A\"),\n",
    "            prob_activation = 0.5,\n",
    "            prob_degradation = 0.9)\n",
    "\n",
    "gen_C = gen(name=\"C\",\n",
    "            prob_activation = 0.3,\n",
    "            prob_degradation = 0.5)"
   ]
  },
  {
   "cell_type": "code",
   "execution_count": 8,
   "id": "5791f2f7-aff6-4ae2-8b2f-73b04c91a197",
   "metadata": {},
   "outputs": [
    {
     "ename": "ERROR",
     "evalue": "Error in eval(expr, envir, enclos): objeto 'gen_A' no encontrado\n",
     "output_type": "error",
     "traceback": [
      "Error in eval(expr, envir, enclos): objeto 'gen_A' no encontrado\nTraceback:\n"
     ]
    }
   ],
   "source": [
    "input_gen_list = list(gen_A, gen_B, gen_C)"
   ]
  },
  {
   "cell_type": "code",
   "execution_count": null,
   "id": "355cd04d-c6f2-4428-8c77-ce1d2451104b",
   "metadata": {},
   "outputs": [],
   "source": [
    "#Here is generated the fixed states, the states with probabilities\n",
    "#and the simulations\n",
    "\n",
    "test=complete_simulation(input_gen_list)"
   ]
  }
 ],
 "metadata": {
  "kernelspec": {
   "display_name": "R",
   "language": "R",
   "name": "ir"
  },
  "language_info": {
   "codemirror_mode": "r",
   "file_extension": ".r",
   "mimetype": "text/x-r-source",
   "name": "R",
   "pygments_lexer": "r",
   "version": "3.6.1"
  }
 },
 "nbformat": 4,
 "nbformat_minor": 5
}
